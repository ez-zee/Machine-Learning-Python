{
  "nbformat": 4,
  "nbformat_minor": 0,
  "metadata": {
    "colab": {
      "provenance": [],
      "authorship_tag": "ABX9TyPWV54S8YAqI1NYVCfgvw+U",
      "include_colab_link": true
    },
    "kernelspec": {
      "name": "python3",
      "display_name": "Python 3"
    },
    "language_info": {
      "name": "python"
    }
  },
  "cells": [
    {
      "cell_type": "markdown",
      "metadata": {
        "id": "view-in-github",
        "colab_type": "text"
      },
      "source": [
        "<a href=\"https://colab.research.google.com/github/ez-zee/Machine-Learning-Python/blob/main/Logistic_Regression.ipynb\" target=\"_parent\"><img src=\"https://colab.research.google.com/assets/colab-badge.svg\" alt=\"Open In Colab\"/></a>"
      ]
    },
    {
      "source": [
        "import numpy as np\n",
        "from sklearn.linear_model import SGDClassifier\n",
        "\n",
        "# Генерация случайных данных для примера\n",
        "X = np.random.rand(100, 4)  # 100 выборок, 4 признака\n",
        "y = np.random.randint(0, 2, 100)  # 100 меток классов (0 или 1)\n",
        "\n",
        "# Разделение данных на обучающую и тестовую выборки\n",
        "X_train, X_test = X[:80], X[80:]\n",
        "y_train, y_test = y[:80], y[80:]\n",
        "\n",
        "# Создание модели\n",
        "model = SGDClassifier(loss='log_loss', max_iter=1000, tol=1e-3)\n",
        "\n",
        "# Обучение модели в цикле с 5 итерациями\n",
        "for i in range(5):\n",
        "    model.partial_fit(X_train, y_train, classes=np.unique(y_train))\n",
        "    # Вывод промежуточной точности (необязательно)\n",
        "    score = model.score(X_test, y_test)\n",
        "    print(f\"Iteration {i+1}, accuracy: {score:.2f}\")\n",
        "\n",
        "# Предсказание на тестовых данных\n",
        "y_pred = model.predict(X_test)\n",
        "\n",
        "# Вывод итоговой точности\n",
        "score = model.score(X_test, y_test)\n",
        "print(f\"Final accuracy: {score:.2f}\")"
      ],
      "cell_type": "code",
      "metadata": {
        "colab": {
          "base_uri": "https://localhost:8080/"
        },
        "id": "KY5wlUKM7g7L",
        "outputId": "40955c3b-cad9-4302-86aa-f169e9b6b41b"
      },
      "execution_count": 1,
      "outputs": [
        {
          "output_type": "stream",
          "name": "stdout",
          "text": [
            "Iteration 1, accuracy: 0.35\n",
            "Iteration 2, accuracy: 0.55\n",
            "Iteration 3, accuracy: 0.55\n",
            "Iteration 4, accuracy: 0.70\n",
            "Iteration 5, accuracy: 0.25\n",
            "Final accuracy: 0.25\n"
          ]
        }
      ]
    },
    {
      "source": [
        "import numpy as np\n",
        "from sklearn.linear_model import SGDClassifier\n",
        "from sklearn.preprocessing import StandardScaler\n",
        "from sklearn.model_selection import train_test_split\n",
        "from sklearn.datasets import make_classification\n",
        "\n",
        "# Генерация данных с линейно разделимыми классами\n",
        "X, y = make_classification(n_samples=1000, n_features=4, n_informative=2, n_redundant=0, random_state=42)\n",
        "\n",
        "# Разделение данных на обучающую и тестовую выборки\n",
        "X_train, X_test, y_train, y_test = train_test_split(X, y, test_size=0.2, random_state=42)\n",
        "\n",
        "# Масштабирование данных\n",
        "scaler = StandardScaler()\n",
        "X_train = scaler.fit_transform(X_train)\n",
        "X_test = scaler.transform(X_test)\n",
        "\n",
        "# Создание модели\n",
        "model = SGDClassifier(loss='log_loss', max_iter=10000, tol=1e-5, random_state=42)\n",
        "\n",
        "# Обучение модели в цикле с 10 итерациями\n",
        "for i in range(10):\n",
        "    model.partial_fit(X_train, y_train, classes=np.unique(y_train))\n",
        "    score = model.score(X_test, y_test)\n",
        "    print(f\"Iteration {i+1}, accuracy: {score:.2f}\")\n",
        "\n",
        "# Вывод итоговой точности\n",
        "final_score = model.score(X_test, y_test)\n",
        "print(f\"Final accuracy: {final_score:.2f}\")"
      ],
      "cell_type": "code",
      "metadata": {
        "colab": {
          "base_uri": "https://localhost:8080/"
        },
        "id": "P4K4k0coG-B-",
        "outputId": "f405bb6f-5551-40e1-8cf2-8884f224bcac"
      },
      "execution_count": 2,
      "outputs": [
        {
          "output_type": "stream",
          "name": "stdout",
          "text": [
            "Iteration 1, accuracy: 0.85\n",
            "Iteration 2, accuracy: 0.84\n",
            "Iteration 3, accuracy: 0.85\n",
            "Iteration 4, accuracy: 0.85\n",
            "Iteration 5, accuracy: 0.85\n",
            "Iteration 6, accuracy: 0.85\n",
            "Iteration 7, accuracy: 0.86\n",
            "Iteration 8, accuracy: 0.88\n",
            "Iteration 9, accuracy: 0.88\n",
            "Iteration 10, accuracy: 0.88\n",
            "Final accuracy: 0.88\n"
          ]
        }
      ]
    },
    {
      "source": [
        "import numpy as np\n",
        "from sklearn.linear_model import SGDClassifier\n",
        "from sklearn.preprocessing import StandardScaler\n",
        "from sklearn.model_selection import train_test_split\n",
        "from sklearn.datasets import make_classification\n",
        "\n",
        "# Генерация данных с линейно разделимыми классами\n",
        "X, y = make_classification(n_samples=1000, n_features=4, n_informative=2, n_redundant=0, random_state=42)\n",
        "\n",
        "# Разделение данных на обучающую и тестовую выборки\n",
        "X_train, X_test, y_train, y_test = train_test_split(X, y, test_size=0.2, random_state=42)\n",
        "\n",
        "# Масштабирование данных\n",
        "scaler = StandardScaler()\n",
        "X_train = scaler.fit_transform(X_train)\n",
        "X_test = scaler.transform(X_test)\n",
        "\n",
        "# Создание модели\n",
        "model = SGDClassifier(loss='log_loss', max_iter=10000, tol=1e-5, random_state=42)\n",
        "\n",
        "# Обучение модели в цикле с 10 итерациями\n",
        "for i in range(10):\n",
        "    model.partial_fit(X_train, y_train, classes=np.unique(y_train))\n",
        "    score = model.score(X_test, y_test)\n",
        "    print(f\"Iteration {i+1}, accuracy: {score:.2f}\")\n",
        "\n",
        "# Предсказание на тестовых данных\n",
        "y_pred = model.predict(X_test)\n",
        "\n",
        "# Вывод итоговой точности\n",
        "final_score = model.score(X_test, y_test)\n",
        "print(f\"Final accuracy: {final_score:.2f}\")\n",
        "\n",
        "# Вывод результатов бинарной классификации для первых 10 элементов тестовой выборки\n",
        "print(\"\\nРезультаты бинарной классификации:\")\n",
        "for i in range(10):\n",
        "    print(f\"X_test[{i}]: {X_test[i]}, Predicted class: {y_pred[i]}, True class: {y_test[i]}\")"
      ],
      "cell_type": "code",
      "metadata": {
        "colab": {
          "base_uri": "https://localhost:8080/"
        },
        "id": "uN7mQ9tKQfik",
        "outputId": "dc35621f-6e8f-43dc-d0ff-06ced7331cd6"
      },
      "execution_count": 3,
      "outputs": [
        {
          "output_type": "stream",
          "name": "stdout",
          "text": [
            "Iteration 1, accuracy: 0.85\n",
            "Iteration 2, accuracy: 0.84\n",
            "Iteration 3, accuracy: 0.85\n",
            "Iteration 4, accuracy: 0.85\n",
            "Iteration 5, accuracy: 0.85\n",
            "Iteration 6, accuracy: 0.85\n",
            "Iteration 7, accuracy: 0.86\n",
            "Iteration 8, accuracy: 0.88\n",
            "Iteration 9, accuracy: 0.88\n",
            "Iteration 10, accuracy: 0.88\n",
            "Final accuracy: 0.88\n",
            "\n",
            "Результаты бинарной классификации:\n",
            "X_test[0]: [-0.137663   -1.05955483 -0.99856674 -0.7665879 ], Predicted class: 0, True class: 1\n",
            "X_test[1]: [-0.78735022 -0.37993363 -0.64002119  0.67899363], Predicted class: 0, True class: 0\n",
            "X_test[2]: [-0.77445599  0.04769632 -0.75354072  0.54220709], Predicted class: 0, True class: 0\n",
            "X_test[3]: [-0.64653747  0.31826993 -0.94696278 -0.2257733 ], Predicted class: 0, True class: 0\n",
            "X_test[4]: [-1.40232535  0.3206111   0.51751116  0.45972764], Predicted class: 1, True class: 1\n",
            "X_test[5]: [-0.80125036 -1.26858784 -0.39738675  0.81992174], Predicted class: 0, True class: 0\n",
            "X_test[6]: [-0.95946428 -0.47545388 -1.67291404  0.2634915 ], Predicted class: 0, True class: 0\n",
            "X_test[7]: [-0.41385881 -1.05717814  0.139986   -1.06243267], Predicted class: 1, True class: 0\n",
            "X_test[8]: [-0.76310306  1.77315172 -1.28309117  1.55032535], Predicted class: 0, True class: 1\n",
            "X_test[9]: [ 1.44240516 -0.93320753 -0.88112649 -0.19845859], Predicted class: 0, True class: 0\n"
          ]
        }
      ]
    },
    {
      "source": [
        "import numpy as np\n",
        "from sklearn.linear_model import SGDClassifier\n",
        "from sklearn.preprocessing import StandardScaler\n",
        "from sklearn.model_selection import train_test_split\n",
        "from sklearn.datasets import make_classification\n",
        "\n",
        "# Генерация данных\n",
        "X, y = make_classification(n_samples=1000, n_features=4, n_informative=2, n_redundant=0, random_state=42)\n",
        "\n",
        "# Разделение данных\n",
        "X_train, X_test, y_train, y_test = train_test_split(X, y, test_size=0.2, random_state=42)\n",
        "\n",
        "# Масштабирование данных\n",
        "scaler = StandardScaler()\n",
        "X_train = scaler.fit_transform(X_train)\n",
        "X_test = scaler.transform(X_test)\n",
        "\n",
        "# Создание модели\n",
        "model = SGDClassifier(loss='log_loss', max_iter=10000, tol=1e-5, random_state=42)\n",
        "\n",
        "# Порог активации\n",
        "threshold = 0.8\n",
        "\n",
        "# Обучение модели с выводом результатов классификации на основе порога\n",
        "for i in range(10):\n",
        "    model.partial_fit(X_train, y_train, classes=np.unique(y_train))\n",
        "\n",
        "    # Вычисление вероятностей для тестовой выборки\n",
        "    probabilities = model.predict_proba(X_test)[:, 1]  # Вероятности класса 1\n",
        "\n",
        "    # Предсказание классов на основе порога\n",
        "    y_pred = (probabilities >= threshold).astype(int)\n",
        "\n",
        "    # Вывод результатов бинарной классификации для первых 5 элементов\n",
        "    print(f\"\\nIteration {i+1}, Результаты бинарной классификации (порог {threshold:.1f}):\")\n",
        "    for j in range(5):\n",
        "        print(f\"  X_test[{j}]: Predicted class = {y_pred[j]}, True class = {y_test[j]}, Probability = {probabilities[j]:.2f}\")\n",
        "\n",
        "    # Вывод точности\n",
        "    score = model.score(X_test, y_test)  # Используем стандартную метрику accuracy\n",
        "    print(f\"Iteration {i+1}, accuracy: {score:.2f}\")\n",
        "\n",
        "# Вывод итоговой точности\n",
        "final_score = model.score(X_test, y_test)\n",
        "print(f\"\\nFinal accuracy: {final_score:.2f}\")"
      ],
      "cell_type": "code",
      "metadata": {
        "colab": {
          "base_uri": "https://localhost:8080/"
        },
        "id": "G1grMpC1iIXk",
        "outputId": "115ba0e8-9232-4bc2-d685-82ce03121b47"
      },
      "execution_count": 5,
      "outputs": [
        {
          "output_type": "stream",
          "name": "stdout",
          "text": [
            "\n",
            "Iteration 1, Результаты бинарной классификации (порог 0.8):\n",
            "  X_test[0]: Predicted class = 0, True class = 1, Probability = 0.00\n",
            "  X_test[1]: Predicted class = 0, True class = 0, Probability = 0.00\n",
            "  X_test[2]: Predicted class = 0, True class = 0, Probability = 0.00\n",
            "  X_test[3]: Predicted class = 0, True class = 0, Probability = 0.00\n",
            "  X_test[4]: Predicted class = 1, True class = 1, Probability = 1.00\n",
            "Iteration 1, accuracy: 0.85\n",
            "\n",
            "Iteration 2, Результаты бинарной классификации (порог 0.8):\n",
            "  X_test[0]: Predicted class = 0, True class = 1, Probability = 0.00\n",
            "  X_test[1]: Predicted class = 0, True class = 0, Probability = 0.00\n",
            "  X_test[2]: Predicted class = 0, True class = 0, Probability = 0.00\n",
            "  X_test[3]: Predicted class = 0, True class = 0, Probability = 0.00\n",
            "  X_test[4]: Predicted class = 1, True class = 1, Probability = 1.00\n",
            "Iteration 2, accuracy: 0.84\n",
            "\n",
            "Iteration 3, Результаты бинарной классификации (порог 0.8):\n",
            "  X_test[0]: Predicted class = 0, True class = 1, Probability = 0.00\n",
            "  X_test[1]: Predicted class = 0, True class = 0, Probability = 0.00\n",
            "  X_test[2]: Predicted class = 0, True class = 0, Probability = 0.00\n",
            "  X_test[3]: Predicted class = 0, True class = 0, Probability = 0.00\n",
            "  X_test[4]: Predicted class = 1, True class = 1, Probability = 1.00\n",
            "Iteration 3, accuracy: 0.85\n",
            "\n",
            "Iteration 4, Результаты бинарной классификации (порог 0.8):\n",
            "  X_test[0]: Predicted class = 0, True class = 1, Probability = 0.00\n",
            "  X_test[1]: Predicted class = 0, True class = 0, Probability = 0.01\n",
            "  X_test[2]: Predicted class = 0, True class = 0, Probability = 0.01\n",
            "  X_test[3]: Predicted class = 0, True class = 0, Probability = 0.00\n",
            "  X_test[4]: Predicted class = 1, True class = 1, Probability = 1.00\n",
            "Iteration 4, accuracy: 0.85\n",
            "\n",
            "Iteration 5, Результаты бинарной классификации (порог 0.8):\n",
            "  X_test[0]: Predicted class = 0, True class = 1, Probability = 0.00\n",
            "  X_test[1]: Predicted class = 0, True class = 0, Probability = 0.02\n",
            "  X_test[2]: Predicted class = 0, True class = 0, Probability = 0.02\n",
            "  X_test[3]: Predicted class = 0, True class = 0, Probability = 0.01\n",
            "  X_test[4]: Predicted class = 1, True class = 1, Probability = 1.00\n",
            "Iteration 5, accuracy: 0.85\n",
            "\n",
            "Iteration 6, Результаты бинарной классификации (порог 0.8):\n",
            "  X_test[0]: Predicted class = 0, True class = 1, Probability = 0.00\n",
            "  X_test[1]: Predicted class = 0, True class = 0, Probability = 0.03\n",
            "  X_test[2]: Predicted class = 0, True class = 0, Probability = 0.02\n",
            "  X_test[3]: Predicted class = 0, True class = 0, Probability = 0.01\n",
            "  X_test[4]: Predicted class = 1, True class = 1, Probability = 1.00\n",
            "Iteration 6, accuracy: 0.85\n",
            "\n",
            "Iteration 7, Результаты бинарной классификации (порог 0.8):\n",
            "  X_test[0]: Predicted class = 0, True class = 1, Probability = 0.00\n",
            "  X_test[1]: Predicted class = 0, True class = 0, Probability = 0.03\n",
            "  X_test[2]: Predicted class = 0, True class = 0, Probability = 0.03\n",
            "  X_test[3]: Predicted class = 0, True class = 0, Probability = 0.02\n",
            "  X_test[4]: Predicted class = 1, True class = 1, Probability = 1.00\n",
            "Iteration 7, accuracy: 0.86\n",
            "\n",
            "Iteration 8, Результаты бинарной классификации (порог 0.8):\n",
            "  X_test[0]: Predicted class = 0, True class = 1, Probability = 0.00\n",
            "  X_test[1]: Predicted class = 0, True class = 0, Probability = 0.03\n",
            "  X_test[2]: Predicted class = 0, True class = 0, Probability = 0.03\n",
            "  X_test[3]: Predicted class = 0, True class = 0, Probability = 0.02\n",
            "  X_test[4]: Predicted class = 1, True class = 1, Probability = 1.00\n",
            "Iteration 8, accuracy: 0.88\n",
            "\n",
            "Iteration 9, Результаты бинарной классификации (порог 0.8):\n",
            "  X_test[0]: Predicted class = 0, True class = 1, Probability = 0.00\n",
            "  X_test[1]: Predicted class = 0, True class = 0, Probability = 0.04\n",
            "  X_test[2]: Predicted class = 0, True class = 0, Probability = 0.03\n",
            "  X_test[3]: Predicted class = 0, True class = 0, Probability = 0.03\n",
            "  X_test[4]: Predicted class = 1, True class = 1, Probability = 0.99\n",
            "Iteration 9, accuracy: 0.88\n",
            "\n",
            "Iteration 10, Результаты бинарной классификации (порог 0.8):\n",
            "  X_test[0]: Predicted class = 0, True class = 1, Probability = 0.00\n",
            "  X_test[1]: Predicted class = 0, True class = 0, Probability = 0.04\n",
            "  X_test[2]: Predicted class = 0, True class = 0, Probability = 0.04\n",
            "  X_test[3]: Predicted class = 0, True class = 0, Probability = 0.03\n",
            "  X_test[4]: Predicted class = 1, True class = 1, Probability = 0.99\n",
            "Iteration 10, accuracy: 0.88\n",
            "\n",
            "Final accuracy: 0.88\n"
          ]
        }
      ]
    }
  ]
}